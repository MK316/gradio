{
  "nbformat": 4,
  "nbformat_minor": 0,
  "metadata": {
    "colab": {
      "name": "GR_sliderformat.ipynb",
      "provenance": [],
      "authorship_tag": "ABX9TyOk7GHFfSs+JYYQZ1llUfNn",
      "include_colab_link": true
    },
    "kernelspec": {
      "name": "python3",
      "display_name": "Python 3"
    },
    "language_info": {
      "name": "python"
    }
  },
  "cells": [
    {
      "cell_type": "markdown",
      "metadata": {
        "id": "view-in-github",
        "colab_type": "text"
      },
      "source": [
        "<a href=\"https://colab.research.google.com/github/MK316/gradio/blob/main/GR_sliderformat_NA.ipynb\" target=\"_parent\"><img src=\"https://colab.research.google.com/assets/colab-badge.svg\" alt=\"Open In Colab\"/></a>"
      ]
    },
    {
      "cell_type": "code",
      "source": [
        "!pip install gradio"
      ],
      "metadata": {
        "id": "rwPdxHwvoxSU"
      },
      "execution_count": null,
      "outputs": []
    },
    {
      "cell_type": "code",
      "execution_count": 2,
      "metadata": {
        "colab": {
          "base_uri": "https://localhost:8080/",
          "height": 646
        },
        "id": "izUygim_ovIY",
        "outputId": "762249e8-d3cb-4b42-e46a-99bb15b7e9cd"
      },
      "outputs": [
        {
          "output_type": "stream",
          "name": "stdout",
          "text": [
            "Colab notebook detected. To show errors in colab notebook, set `debug=True` in `launch()`\n",
            "Running on public URL: https://50615.gradio.app\n",
            "\n",
            "This share link expires in 72 hours. For free permanent hosting, check out Spaces (https://huggingface.co/spaces)\n"
          ]
        },
        {
          "output_type": "display_data",
          "data": {
            "text/plain": [
              "<IPython.lib.display.IFrame at 0x7f187aafe410>"
            ],
            "text/html": [
              "\n",
              "        <iframe\n",
              "            width=\"900\"\n",
              "            height=\"500\"\n",
              "            src=\"https://50615.gradio.app\"\n",
              "            frameborder=\"0\"\n",
              "            allowfullscreen\n",
              "        ></iframe>\n",
              "        "
            ]
          },
          "metadata": {}
        },
        {
          "output_type": "execute_result",
          "data": {
            "text/plain": [
              "(<gradio.routes.App at 0x7f187b3ace90>,\n",
              " 'http://127.0.0.1:7860/',\n",
              " 'https://50615.gradio.app')"
            ]
          },
          "metadata": {},
          "execution_count": 2
        }
      ],
      "source": [
        "import gradio as gr\n",
        "\n",
        "\n",
        "def sentence_builder(quantity, animal, place, activity_list, morning):\n",
        "    return f\"\"\"The {quantity} {animal}s went to the {place} where they {\" and \".join(activity_list)} until the {\"morning\" if morning else \"night\"}\"\"\"\n",
        "\n",
        "\n",
        "demo = gr.Interface(\n",
        "    sentence_builder,\n",
        "    [\n",
        "        gr.Slider(1, 10),\n",
        "        gr.Dropdown([\"cat\", \"dog\", \"bird\"]),\n",
        "        gr.Radio([\"park\", \"zoo\", \"road\"]),\n",
        "        gr.CheckboxGroup([\"ran\", \"swam\", \"ate\", \"slept\"]),\n",
        "        gr.Checkbox(label=\"Is it the morning?\"),\n",
        "    ],\n",
        "    \"text\",\n",
        "    examples=[\n",
        "        [2, \"cat\", \"park\", [\"ran\", \"swam\"], True],\n",
        "        [4, \"dog\", \"zoo\", [\"ate\", \"swam\"], False],\n",
        "        [10, \"bird\", \"road\", [\"ran\"], False],\n",
        "        [8, \"cat\", \"zoo\", [\"ate\"], True],\n",
        "    ],\n",
        ")\n",
        "\n",
        "demo.launch()"
      ]
    },
    {
      "cell_type": "code",
      "source": [
        "import gradio as gr\n",
        "\n",
        "\n",
        "def sentence_builder(quantity, animal, place, activity_list, morning):\n",
        "    return f\"\"\"The {quantity} {animal}s went to the {place} where they {\" and \".join(activity_list)} until the {\"morning\" if morning else \"night\"}\"\"\"\n",
        "\n",
        "\n",
        "demo = gr.Interface(\n",
        "    sentence_builder,\n",
        "    [\n",
        "        gr.Slider(1, 10),\n",
        "        gr.Dropdown([\"kr\", \"en\", \"fr\"]),\n",
        "        gr.Radio([\"park\", \"zoo\", \"road\"]),\n",
        "        gr.CheckboxGroup([\"ran\", \"swam\", \"ate\", \"slept\"]),\n",
        "        gr.Checkbox(label=\"Is it the morning?\"),\n",
        "    ],\n",
        "    \"text\",\n",
        "    examples=[\n",
        "        [2, \"cat\", \"park\", [\"ran\", \"swam\"], True],\n",
        "        [4, \"dog\", \"zoo\", [\"ate\", \"swam\"], False],\n",
        "        [10, \"bird\", \"road\", [\"ran\"], False],\n",
        "        [8, \"cat\", \"zoo\", [\"ate\"], True],\n",
        "    ],\n",
        ")\n",
        "\n",
        "demo.launch()"
      ],
      "metadata": {
        "colab": {
          "base_uri": "https://localhost:8080/",
          "height": 646
        },
        "id": "I020bjrqrX_n",
        "outputId": "e04dadf2-3ed3-4b67-f181-1c737370336a"
      },
      "execution_count": 9,
      "outputs": [
        {
          "output_type": "stream",
          "name": "stdout",
          "text": [
            "Colab notebook detected. To show errors in colab notebook, set `debug=True` in `launch()`\n",
            "Running on public URL: https://22090.gradio.app\n",
            "\n",
            "This share link expires in 72 hours. For free permanent hosting, check out Spaces (https://huggingface.co/spaces)\n"
          ]
        },
        {
          "output_type": "display_data",
          "data": {
            "text/plain": [
              "<IPython.lib.display.IFrame at 0x7f187b3b1790>"
            ],
            "text/html": [
              "\n",
              "        <iframe\n",
              "            width=\"900\"\n",
              "            height=\"500\"\n",
              "            src=\"https://22090.gradio.app\"\n",
              "            frameborder=\"0\"\n",
              "            allowfullscreen\n",
              "        ></iframe>\n",
              "        "
            ]
          },
          "metadata": {}
        },
        {
          "output_type": "execute_result",
          "data": {
            "text/plain": [
              "(<gradio.routes.App at 0x7f1871229290>,\n",
              " 'http://127.0.0.1:7861/',\n",
              " 'https://22090.gradio.app')"
            ]
          },
          "metadata": {},
          "execution_count": 9
        }
      ]
    }
  ]
}