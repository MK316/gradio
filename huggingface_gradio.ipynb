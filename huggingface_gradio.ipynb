{
  "nbformat": 4,
  "nbformat_minor": 0,
  "metadata": {
    "colab": {
      "name": "huggingface_gradio.ipynb",
      "provenance": [],
      "include_colab_link": true
    },
    "kernelspec": {
      "name": "python3",
      "display_name": "Python 3"
    },
    "language_info": {
      "name": "python"
    }
  },
  "cells": [
    {
      "cell_type": "markdown",
      "metadata": {
        "id": "view-in-github",
        "colab_type": "text"
      },
      "source": [
        "<a href=\"https://colab.research.google.com/github/MK316/gradio/blob/main/huggingface_gradio.ipynb\" target=\"_parent\"><img src=\"https://colab.research.google.com/assets/colab-badge.svg\" alt=\"Open In Colab\"/></a>"
      ]
    },
    {
      "cell_type": "markdown",
      "source": [
        "# Gradio"
      ],
      "metadata": {
        "id": "db9niyom7N4U"
      }
    },
    {
      "cell_type": "code",
      "execution_count": 5,
      "metadata": {
        "id": "YIc3wBXqPoAi"
      },
      "outputs": [],
      "source": [
        "#@markdown Install {gradio}\n",
        "%%capture\n",
        "!pip install gradio\n",
        "import gradio as gr\n"
      ]
    },
    {
      "cell_type": "code",
      "source": [
        "# This doesn't work\n",
        "# gr.Interface.load(\"google/vit-base-patch16-224\").launch()"
      ],
      "metadata": {
        "id": "OyRWpil_P_u7"
      },
      "execution_count": 12,
      "outputs": []
    },
    {
      "cell_type": "code",
      "source": [
        "#@markdown Text creating gradio:\n",
        "gr.Interface.load(\"huggingface/gpt2\").launch();"
      ],
      "metadata": {
        "id": "wrYVRIC2Qdjw",
        "cellView": "form"
      },
      "execution_count": null,
      "outputs": []
    },
    {
      "cell_type": "markdown",
      "source": [
        "## Image to text (e.g., classification)"
      ],
      "metadata": {
        "id": "d7_JEJf6_-MZ"
      }
    },
    {
      "cell_type": "code",
      "source": [
        "#@markdown Install {transformers}\n",
        "%%capture\n",
        "!pip install transformers\n",
        "from transformers import ViTFeatureExtractor, ViTForImageClassification\n",
        "from PIL import Image\n",
        "import requests\n",
        "\n",
        "url = 'http://images.cocodataset.org/val2017/000000039769.jpg'\n",
        "image = Image.open(requests.get(url, stream=True).raw)\n",
        "\n",
        "feature_extractor = ViTFeatureExtractor.from_pretrained('google/vit-base-patch16-224')\n",
        "model = ViTForImageClassification.from_pretrained('google/vit-base-patch16-224')\n",
        "\n",
        "inputs = feature_extractor(images=image, return_tensors=\"pt\")\n",
        "outputs = model(**inputs)\n",
        "logits = outputs.logits\n",
        "# model predicts one of the 1000 ImageNet classes\n",
        "predicted_class_idx = logits.argmax(-1).item()\n",
        "print(\"Predicted class:\", model.config.id2label[predicted_class_idx])"
      ],
      "metadata": {
        "id": "gJatB6PFZdse",
        "cellView": "form"
      },
      "execution_count": 11,
      "outputs": []
    },
    {
      "cell_type": "code",
      "source": [
        "#@markdown Making it as a functioin:\n",
        "def func (image):\n",
        "  feature_extractor = ViTFeatureExtractor.from_pretrained('google/vit-base-patch16-224')\n",
        "  model = ViTForImageClassification.from_pretrained('google/vit-base-patch16-224')\n",
        "\n",
        "  inputs = feature_extractor(images=image, return_tensors=\"pt\")\n",
        "  outputs = model(**inputs)\n",
        "  logits = outputs.logits\n",
        "  # model predicts one of the 1000 ImageNet classes\n",
        "  predicted_class_idx = logits.argmax(-1).item()\n",
        "  predicted_class = model.config.id2label[predicted_class_idx]\n",
        "  return predicted_class"
      ],
      "metadata": {
        "id": "CA35L2ZPZveq",
        "cellView": "form"
      },
      "execution_count": 3,
      "outputs": []
    },
    {
      "cell_type": "code",
      "source": [
        "#@markdown Gradio interface:\n",
        "gr.Interface(fn=func, inputs='image', outputs='text').launch()"
      ],
      "metadata": {
        "id": "ifK9VDelaP_H",
        "outputId": "7734c601-10b3-44fa-d0bb-b01234f2a60d",
        "colab": {
          "base_uri": "https://localhost:8080/",
          "height": 646
        }
      },
      "execution_count": 6,
      "outputs": [
        {
          "output_type": "stream",
          "name": "stdout",
          "text": [
            "Colab notebook detected. To show errors in colab notebook, set `debug=True` in `launch()`\n",
            "Running on public URL: https://58876.gradio.app\n",
            "\n",
            "This share link expires in 72 hours. For free permanent hosting, check out Spaces (https://huggingface.co/spaces)\n"
          ]
        },
        {
          "output_type": "display_data",
          "data": {
            "text/plain": [
              "<IPython.lib.display.IFrame at 0x7f8ae3defed0>"
            ],
            "text/html": [
              "\n",
              "        <iframe\n",
              "            width=\"900\"\n",
              "            height=\"500\"\n",
              "            src=\"https://58876.gradio.app\"\n",
              "            frameborder=\"0\"\n",
              "            allowfullscreen\n",
              "        ></iframe>\n",
              "        "
            ]
          },
          "metadata": {}
        },
        {
          "output_type": "execute_result",
          "data": {
            "text/plain": [
              "(<gradio.routes.App at 0x7f8ae3ef3590>,\n",
              " 'http://127.0.0.1:7860/',\n",
              " 'https://58876.gradio.app')"
            ]
          },
          "metadata": {},
          "execution_count": 6
        }
      ]
    },
    {
      "cell_type": "markdown",
      "source": [
        "## Designing of Gradio app with prepared examples:"
      ],
      "metadata": {
        "id": "x8BOvfygAkrf"
      }
    },
    {
      "cell_type": "code",
      "source": [
        "#@markdown Import {os} to get example files: 4 image files to use (from github)\n",
        "import os\n",
        "url = \"https://raw.githubusercontent.com/MK316/gradio/main/data/Eurasian_squirrel.png\"\n",
        "os.system(\"curl \" + url + \" > Eurasian_squirrel.png\")\n",
        "url = \"https://raw.githubusercontent.com/MK316/gradio/main/data/opossum01.png\"\n",
        "os.system(\"curl \" + url + \" > opossum01.png\")\n",
        "url = \"https://raw.githubusercontent.com/MK316/gradio/main/data/opossum02.png\"\n",
        "os.system(\"curl \" + url + \" > opossum02.png\")\n",
        "url = \"https://raw.githubusercontent.com/MK316/gradio/main/data/pangolin.png\"\n",
        "os.system(\"curl \" + url + \" > pangolin.png\")"
      ],
      "metadata": {
        "id": "v4FSg0gMbBLJ",
        "outputId": "7aa0aff7-19f9-46d3-b47c-f242a8f664d0",
        "colab": {
          "base_uri": "https://localhost:8080/"
        }
      },
      "execution_count": 26,
      "outputs": [
        {
          "output_type": "execute_result",
          "data": {
            "text/plain": [
              "0"
            ]
          },
          "metadata": {},
          "execution_count": 26
        }
      ]
    },
    {
      "cell_type": "code",
      "source": [
        "gr.Interface(fn=func, inputs='image', outputs='text', examples = ['Eurasian_squirrel.png','opossum01.png','opossum02.png','pangolin.png']).launch()"
      ],
      "metadata": {
        "id": "h3N3dCkG2o3j",
        "outputId": "3430a56b-854c-4938-e9f1-375838b9aab4",
        "colab": {
          "base_uri": "https://localhost:8080/",
          "height": 646
        }
      },
      "execution_count": 27,
      "outputs": [
        {
          "output_type": "stream",
          "name": "stdout",
          "text": [
            "Colab notebook detected. To show errors in colab notebook, set `debug=True` in `launch()`\n",
            "Running on public URL: https://47555.gradio.app\n",
            "\n",
            "This share link expires in 72 hours. For free permanent hosting, check out Spaces (https://huggingface.co/spaces)\n"
          ]
        },
        {
          "output_type": "display_data",
          "data": {
            "text/plain": [
              "<IPython.lib.display.IFrame at 0x7f8ae0573190>"
            ],
            "text/html": [
              "\n",
              "        <iframe\n",
              "            width=\"900\"\n",
              "            height=\"500\"\n",
              "            src=\"https://47555.gradio.app\"\n",
              "            frameborder=\"0\"\n",
              "            allowfullscreen\n",
              "        ></iframe>\n",
              "        "
            ]
          },
          "metadata": {}
        },
        {
          "output_type": "execute_result",
          "data": {
            "text/plain": [
              "(<gradio.routes.App at 0x7f8adacaf190>,\n",
              " 'http://127.0.0.1:7869/',\n",
              " 'https://47555.gradio.app')"
            ]
          },
          "metadata": {},
          "execution_count": 27
        }
      ]
    }
  ]
}