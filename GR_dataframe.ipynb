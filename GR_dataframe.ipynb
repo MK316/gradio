{
  "nbformat": 4,
  "nbformat_minor": 0,
  "metadata": {
    "colab": {
      "name": "GR_dataframe.ipynb",
      "provenance": [],
      "authorship_tag": "ABX9TyPxNkbArsPCkxx9h3Usf6xZ",
      "include_colab_link": true
    },
    "kernelspec": {
      "name": "python3",
      "display_name": "Python 3"
    },
    "language_info": {
      "name": "python"
    }
  },
  "cells": [
    {
      "cell_type": "markdown",
      "metadata": {
        "id": "view-in-github",
        "colab_type": "text"
      },
      "source": [
        "<a href=\"https://colab.research.google.com/github/MK316/gradio/blob/main/GR_dataframe.ipynb\" target=\"_parent\"><img src=\"https://colab.research.google.com/assets/colab-badge.svg\" alt=\"Open In Colab\"/></a>"
      ]
    },
    {
      "cell_type": "code",
      "source": [
        "%%capture\n",
        "!pip install gradio"
      ],
      "metadata": {
        "id": "1NMF1gHmtWDw"
      },
      "execution_count": 1,
      "outputs": []
    },
    {
      "cell_type": "code",
      "execution_count": 2,
      "metadata": {
        "colab": {
          "base_uri": "https://localhost:8080/",
          "height": 646
        },
        "id": "23KRVFZbs5kJ",
        "outputId": "773beae3-1c01-4d5f-dfdf-9284011a37f1"
      },
      "outputs": [
        {
          "output_type": "stream",
          "name": "stdout",
          "text": [
            "Colab notebook detected. To show errors in colab notebook, set `debug=True` in `launch()`\n",
            "Running on public URL: https://28371.gradio.app\n",
            "\n",
            "This share link expires in 72 hours. For free permanent hosting, check out Spaces (https://huggingface.co/spaces)\n"
          ]
        },
        {
          "output_type": "display_data",
          "data": {
            "text/plain": [
              "<IPython.lib.display.IFrame at 0x7ff4648a3850>"
            ],
            "text/html": [
              "\n",
              "        <iframe\n",
              "            width=\"900\"\n",
              "            height=\"500\"\n",
              "            src=\"https://28371.gradio.app\"\n",
              "            frameborder=\"0\"\n",
              "            allowfullscreen\n",
              "        ></iframe>\n",
              "        "
            ]
          },
          "metadata": {}
        },
        {
          "output_type": "execute_result",
          "data": {
            "text/plain": [
              "(<gradio.routes.App at 0x7ff4648981d0>,\n",
              " 'http://127.0.0.1:7860/',\n",
              " 'https://28371.gradio.app')"
            ]
          },
          "metadata": {},
          "execution_count": 2
        }
      ],
      "source": [
        "import gradio as gr\n",
        "\n",
        "\n",
        "def filter_records(records, gender):\n",
        "    return records[records[\"gender\"] == gender]\n",
        "\n",
        "\n",
        "demo = gr.Interface(\n",
        "    filter_records,\n",
        "    [\n",
        "        gr.Dataframe(\n",
        "            headers=[\"name\", \"age\", \"gender\"],\n",
        "            datatype=[\"str\", \"number\", \"str\"],\n",
        "            row_count=5,\n",
        "            col_count=(3, \"fixed\")\n",
        "        ),\n",
        "        gr.Dropdown([\"M\", \"F\", \"O\"]),\n",
        "    ],\n",
        "    \"dataframe\",\n",
        "    description=\"Enter gender as 'M', 'F', or 'O' for other.\",\n",
        ")\n",
        "\n",
        "demo.launch()"
      ]
    },
    {
      "cell_type": "markdown",
      "source": [
        "# Documenting data in a dataframe"
      ],
      "metadata": {
        "id": "j1vnWPTOuDi7"
      }
    },
    {
      "cell_type": "code",
      "source": [
        "#@markdown Data input\n",
        "\n",
        "name = input()"
      ],
      "metadata": {
        "id": "wq72xxpJwD9P"
      },
      "execution_count": null,
      "outputs": []
    },
    {
      "cell_type": "code",
      "source": [
        "id = input()"
      ],
      "metadata": {
        "id": "U9nKjRM6wQc3"
      },
      "execution_count": null,
      "outputs": []
    },
    {
      "cell_type": "code",
      "source": [
        "gender = input()"
      ],
      "metadata": {
        "id": "AAn3IY2Pwdr5"
      },
      "execution_count": null,
      "outputs": []
    },
    {
      "cell_type": "code",
      "source": [
        ""
      ],
      "metadata": {
        "id": "eYq1W-VMwhPG"
      },
      "execution_count": null,
      "outputs": []
    },
    {
      "cell_type": "markdown",
      "source": [
        "# Gradio"
      ],
      "metadata": {
        "id": "RcmirfdRwRXX"
      }
    },
    {
      "cell_type": "code",
      "source": [
        "import gradio as gr\n",
        "\n",
        "\n",
        "# def filter_records(records, gender):\n",
        "def data_record(records, pw):\n",
        "    return records[records[\"pw\"] == pw]\n",
        "\n",
        "\n",
        "demo = gr.Interface(\n",
        "    data_record,\n",
        "    [\n",
        "        gr.Dataframe(\n",
        "            headers=[\"name\", \"ID\", \"pw\", \"gender\",\"Consonants\"],\n",
        "            datatype=[\"str\", \"str\", \"str\", \"str\", \"str\"],\n",
        "            row_count=3,\n",
        "            col_count=(5, \"fixed\")\n",
        "        ),\n",
        "        gr.Dropdown([\"Consonants\", \"Vowels\", \"Prosody\"]),\n",
        "    ],\n",
        "    \"dataframe\",\n",
        "    description=\"Enter gender as 'M', 'F', or 'O' for other.\",\n",
        ")\n",
        "\n",
        "demo.launch()"
      ],
      "metadata": {
        "colab": {
          "base_uri": "https://localhost:8080/",
          "height": 646
        },
        "id": "gNsUz-QCuCWt",
        "outputId": "f64a9798-b752-435f-b574-4163495535cf"
      },
      "execution_count": 4,
      "outputs": [
        {
          "output_type": "stream",
          "name": "stdout",
          "text": [
            "Colab notebook detected. To show errors in colab notebook, set `debug=True` in `launch()`\n",
            "Running on public URL: https://11663.gradio.app\n",
            "\n",
            "This share link expires in 72 hours. For free permanent hosting, check out Spaces (https://huggingface.co/spaces)\n"
          ]
        },
        {
          "output_type": "display_data",
          "data": {
            "text/plain": [
              "<IPython.lib.display.IFrame at 0x7ff4615ea150>"
            ],
            "text/html": [
              "\n",
              "        <iframe\n",
              "            width=\"900\"\n",
              "            height=\"500\"\n",
              "            src=\"https://11663.gradio.app\"\n",
              "            frameborder=\"0\"\n",
              "            allowfullscreen\n",
              "        ></iframe>\n",
              "        "
            ]
          },
          "metadata": {}
        },
        {
          "output_type": "execute_result",
          "data": {
            "text/plain": [
              "(<gradio.routes.App at 0x7ff462f2d150>,\n",
              " 'http://127.0.0.1:7861/',\n",
              " 'https://11663.gradio.app')"
            ]
          },
          "metadata": {},
          "execution_count": 4
        }
      ]
    }
  ]
}