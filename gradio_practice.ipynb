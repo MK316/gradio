{
  "nbformat": 4,
  "nbformat_minor": 0,
  "metadata": {
    "colab": {
      "name": "gradio_practice.ipynb",
      "provenance": [],
      "include_colab_link": true
    },
    "kernelspec": {
      "name": "python3",
      "display_name": "Python 3"
    },
    "language_info": {
      "name": "python"
    }
  },
  "cells": [
    {
      "cell_type": "markdown",
      "metadata": {
        "id": "view-in-github",
        "colab_type": "text"
      },
      "source": [
        "<a href=\"https://colab.research.google.com/github/MK316/gradio/blob/main/gradio_practice.ipynb\" target=\"_parent\"><img src=\"https://colab.research.google.com/assets/colab-badge.svg\" alt=\"Open In Colab\"/></a>"
      ]
    },
    {
      "cell_type": "markdown",
      "source": [
        "#How to use Gradio: source from [hsnam95](\"github.com/hsnam95\")\n",
        "\n",
        "📍 Web description: \"Gradio is the fastest way to demo your machine learning model with a friendly web interface so that anyone can use it, anywhere!\""
      ],
      "metadata": {
        "id": "RFoITiUTML7A"
      }
    },
    {
      "cell_type": "code",
      "execution_count": 1,
      "metadata": {
        "id": "ZhrL6xVSQ9bS",
        "cellView": "form"
      },
      "outputs": [],
      "source": [
        "#@markdown 🌳 Step one: define a function\n",
        "def sum(a, b):\n",
        "\n",
        "  c = int(a + b)\n",
        "  c = '정답은 ' + str(c) + '입니다'\n",
        "  return c"
      ]
    },
    {
      "cell_type": "code",
      "source": [
        "#@markdown ➡️ Try the function: sum(x,y)\n",
        "sum(2,3)"
      ],
      "metadata": {
        "id": "1HIgbjYWSBNX",
        "cellView": "form",
        "outputId": "c6bad80b-8cc6-43fa-dd21-96583271559a",
        "colab": {
          "base_uri": "https://localhost:8080/",
          "height": 35
        }
      },
      "execution_count": 2,
      "outputs": [
        {
          "output_type": "execute_result",
          "data": {
            "text/plain": [
              "'정답은 5입니다'"
            ],
            "application/vnd.google.colaboratory.intrinsic+json": {
              "type": "string"
            }
          },
          "metadata": {},
          "execution_count": 2
        }
      ]
    },
    {
      "cell_type": "markdown",
      "source": [
        "If the function is ready, let's create a demo with {gradio}"
      ],
      "metadata": {
        "id": "G5eQW_ipNChJ"
      }
    },
    {
      "cell_type": "code",
      "source": [
        "#@markdown 🌳 Install {gradio}\n",
        "%%capture\n",
        "!pip install gradio"
      ],
      "metadata": {
        "id": "sfMdWugISD5M",
        "cellView": "form"
      },
      "execution_count": 7,
      "outputs": []
    },
    {
      "cell_type": "code",
      "source": [
        "#@markdown 🌳 Import {gradio} as gr:\n",
        "import gradio as gr"
      ],
      "metadata": {
        "id": "buyjOWYWS41q",
        "cellView": "form"
      },
      "execution_count": 4,
      "outputs": []
    },
    {
      "cell_type": "code",
      "source": [
        "#@markdown 🌳 How to build a gradio format\n",
        "iface = gr.Interface(sum, inputs = [\"number\", \"number\"], outputs = [\"text\"])\n",
        "iface.launch()"
      ],
      "metadata": {
        "id": "vNlrBEbSS7ge",
        "cellView": "form"
      },
      "execution_count": null,
      "outputs": []
    },
    {
      "cell_type": "code",
      "source": [
        "#@markdown 🌳 We can change the format more user-friendly:\n",
        "iface = gr.Interface(sum, [gr.inputs.Number(label='input1'), gr.inputs.Number(label='input2')], gr.outputs.Textbox(label='answer'))\n",
        "iface.launch()"
      ],
      "metadata": {
        "id": "9C_eEMRCWExA",
        "cellView": "form"
      },
      "execution_count": null,
      "outputs": []
    },
    {
      "cell_type": "markdown",
      "source": [
        "✅  This is the end (question to: MK3one6@gmail.com)"
      ],
      "metadata": {
        "id": "yuPa4XAHNy8w"
      }
    }
  ]
}