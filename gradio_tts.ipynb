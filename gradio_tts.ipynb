{
  "nbformat": 4,
  "nbformat_minor": 0,
  "metadata": {
    "colab": {
      "name": "gradio_tts.ipynb",
      "provenance": [],
      "authorship_tag": "ABX9TyMdQBkX3DMKhFaFcqXLZ4A7",
      "include_colab_link": true
    },
    "kernelspec": {
      "name": "python3",
      "display_name": "Python 3"
    },
    "language_info": {
      "name": "python"
    }
  },
  "cells": [
    {
      "cell_type": "markdown",
      "metadata": {
        "id": "view-in-github",
        "colab_type": "text"
      },
      "source": [
        "<a href=\"https://colab.research.google.com/github/MK316/gradio/blob/main/gradio_tts.ipynb\" target=\"_parent\"><img src=\"https://colab.research.google.com/assets/colab-badge.svg\" alt=\"Open In Colab\"/></a>"
      ]
    },
    {
      "cell_type": "code",
      "execution_count": null,
      "metadata": {
        "id": "2KP00cbgIO48"
      },
      "outputs": [],
      "source": [
        "#@markdown 🚩 Step ⓿ {gTTS} package installation and import\n",
        "!pip install gTTS\n",
        "from gtts import gTTS\n",
        "from IPython.display import Audio"
      ]
    },
    {
      "cell_type": "code",
      "source": [
        "#@markdown Step ⓵ Type text to say\n",
        "text_to_say = input()"
      ],
      "metadata": {
        "id": "DDwJp4lXIm8_"
      },
      "execution_count": null,
      "outputs": []
    },
    {
      "cell_type": "markdown",
      "source": [
        "## [2] Make a function:"
      ],
      "metadata": {
        "id": "8cmpQUuiTuu7"
      }
    },
    {
      "cell_type": "code",
      "source": [
        "def tts(mytext, language_to_choose):\n",
        "\n",
        "#Install gTTS\n",
        "# !pip install gTTS\n",
        "# from gtts import gTTS\n",
        "# from IPython.display import Audio\n",
        "\n",
        "#@markdown Step ⓵ Type text to say:\n",
        "  text_to_say = mytext\n",
        "\n",
        "#@markdown Step ⓶ Language to choose:\n",
        "  # language_to_choose = \"en\" #@param [\"en\", \"fr\",\"ko\",'es']\n",
        "  lang = language_to_choose\n",
        "\n",
        "  print(\"Play language accent: %s\"%lang)\n",
        "  language = lang\n",
        "\n",
        "# gTTS\n",
        "  gtts_object = gTTS(text = text_to_say,\n",
        "                     lang = language,\n",
        "                    slow = False)\n",
        "  \n",
        "# #@markdown Step ③: Create the audio file (.wav) to play:\n",
        "  gtts_object.save(\"mytext.wav\")\n",
        "\n",
        "# # Output\n",
        "  return Audio(\"mytext.wav\")"
      ],
      "metadata": {
        "id": "WkyNjFIDIy30"
      },
      "execution_count": 27,
      "outputs": []
    },
    {
      "cell_type": "code",
      "source": [
        "type(gtts_object)"
      ],
      "metadata": {
        "colab": {
          "base_uri": "https://localhost:8080/"
        },
        "id": "kfrqVaInY7uo",
        "outputId": "0b1fa159-c13f-41b5-a0a3-f8d026ee1365"
      },
      "execution_count": 28,
      "outputs": [
        {
          "output_type": "execute_result",
          "data": {
            "text/plain": [
              "gtts.tts.gTTS"
            ]
          },
          "metadata": {},
          "execution_count": 28
        }
      ]
    },
    {
      "cell_type": "markdown",
      "source": [
        "# Function works: the audio output"
      ],
      "metadata": {
        "id": "E624isw1UArc"
      }
    },
    {
      "cell_type": "code",
      "source": [
        "tts(\"Hello my friend\", \"fr\")"
      ],
      "metadata": {
        "colab": {
          "base_uri": "https://localhost:8080/",
          "height": 92
        },
        "id": "jrcwG3pZRVfT",
        "outputId": "4cf295eb-8870-4066-8d3d-a0d27b18c73e"
      },
      "execution_count": 29,
      "outputs": [
        {
          "output_type": "stream",
          "name": "stdout",
          "text": [
            "Play language accent: fr\n"
          ]
        },
        {
          "output_type": "execute_result",
          "data": {
            "text/plain": [
              "<IPython.lib.display.Audio object>"
            ],
            "text/html": [
              "\n",
              "                <audio controls=\"controls\" >\n",
              "                    <source src=\"data:audio/x-wav;base64,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\" type=\"audio/x-wav\" />\n",
              "                    Your browser does not support the audio element.\n",
              "                </audio>\n",
              "              "
            ]
          },
          "metadata": {},
          "execution_count": 29
        }
      ]
    },
    {
      "cell_type": "markdown",
      "source": [
        "## [2] Gradio"
      ],
      "metadata": {
        "id": "gbUjkojdUFmJ"
      }
    },
    {
      "cell_type": "code",
      "source": [
        "#@markdown 🌳 Install {gradio}\n",
        "%%capture\n",
        "!pip install gradio"
      ],
      "metadata": {
        "id": "4cyH2I4ETsf5"
      },
      "execution_count": 19,
      "outputs": []
    },
    {
      "cell_type": "code",
      "source": [
        "#@markdown 🌳 Import {gradio} as gr:\n",
        "import gradio as gr"
      ],
      "metadata": {
        "id": "JekGNBxdUYN-"
      },
      "execution_count": 20,
      "outputs": []
    },
    {
      "cell_type": "code",
      "source": [
        "#@markdown 🌳 How to build a gradio format\n",
        "iface = gr.Interface(tts, inputs = [\"text\", \"text\"], outputs = [\"audio\"])\n",
        "iface.launch()"
      ],
      "metadata": {
        "colab": {
          "base_uri": "https://localhost:8080/",
          "height": 646
        },
        "id": "Dq-uyx-uUmzD",
        "outputId": "33cc7aab-6bef-4ff5-c0e1-83d3fcfacb96"
      },
      "execution_count": 30,
      "outputs": [
        {
          "output_type": "stream",
          "name": "stdout",
          "text": [
            "Colab notebook detected. To show errors in colab notebook, set `debug=True` in `launch()`\n",
            "Running on public URL: https://55871.gradio.app\n",
            "\n",
            "This share link expires in 72 hours. For free permanent hosting, check out Spaces (https://huggingface.co/spaces)\n"
          ]
        },
        {
          "output_type": "display_data",
          "data": {
            "text/plain": [
              "<IPython.lib.display.IFrame at 0x7f0769b31950>"
            ],
            "text/html": [
              "\n",
              "        <iframe\n",
              "            width=\"900\"\n",
              "            height=\"500\"\n",
              "            src=\"https://55871.gradio.app\"\n",
              "            frameborder=\"0\"\n",
              "            allowfullscreen\n",
              "        ></iframe>\n",
              "        "
            ]
          },
          "metadata": {}
        },
        {
          "output_type": "execute_result",
          "data": {
            "text/plain": [
              "(<gradio.routes.App at 0x7f076bb96490>,\n",
              " 'http://127.0.0.1:7861/',\n",
              " 'https://55871.gradio.app')"
            ]
          },
          "metadata": {},
          "execution_count": 30
        }
      ]
    }
  ]
}